{
 "cells": [
  {
   "cell_type": "code",
   "execution_count": 96,
   "metadata": {
    "collapsed": false
   },
   "outputs": [],
   "source": [
    "from matplotlib import pyplot as ply\n",
    "from sklearn import svm\n",
    "from sklearn.metrics import accuracy_score, precision_score, recall_score, roc_curve\n",
    "import numpy as np\n",
    "from plotly.offline import plot, iplot, init_notebook_mode\n",
    "from plotly.graph_objs import Scatter\n"
   ]
  },
  {
   "cell_type": "code",
   "execution_count": 73,
   "metadata": {
    "collapsed": true
   },
   "outputs": [],
   "source": [
    "# genfromtxt('my_file.csv', delimiter=',')\n",
    "X = np.genfromtxt('twomoons/xtrain.cvs', delimiter=',')\n",
    "Y = np.genfromtxt('twomoons/ytrain.cvs', delimiter=',')\n",
    "Xtest = np.genfromtxt('twomoons/xtest.cvs', delimiter=',')\n",
    "Ytest = np.genfromtxt('twomoons/ytest.cvs', delimiter=',')"
   ]
  },
  {
   "cell_type": "code",
   "execution_count": 77,
   "metadata": {
    "collapsed": true
   },
   "outputs": [],
   "source": [
    "#svm fit\n",
    "# kernel= ‘linear’, ‘poly’, ‘rbf’, ‘sigmoid’, ‘precomputed’\n",
    "def svm_fit(X, Y, C=1,kernel='linear'):\n",
    "    svmClassifier = svm.SVC(kernel=kernel)\n",
    "    svmClassifier.fit(X, Y)\n",
    "    return svmClassifier"
   ]
  },
  {
   "cell_type": "code",
   "execution_count": 92,
   "metadata": {
    "collapsed": true
   },
   "outputs": [],
   "source": [
    "# svm predict\n",
    "class ClasifEval:\n",
    "    def __init__(self, acc=0, recall=0, precision=0, fpr=0):\n",
    "        self.accuracy = acc\n",
    "        self.recall = recall\n",
    "        self.precision = precision\n",
    "        self.fpr = fpr\n",
    "    \n",
    "    def __repr__(self):\n",
    "        return ''.join([\n",
    "            'accuracy: ', str(self.accuracy), '\\n',\n",
    "            'precision: ', str(self.precision), '\\n',\n",
    "            'recall: ', str(self.recall), '\\n',\n",
    "            'FPR: ', str(self.fpr), '\\n'\n",
    "        ]\n",
    "        )\n",
    "        \n",
    "def svm_predict(svmClassifier, Xtest,Ytest):\n",
    "    Ypred = svmClassifier.predict(Xtest)\n",
    "    c_eval = ClasifEval()\n",
    "    c_eval.accuracy = accuracy_score(Ytest, Ypred)\n",
    "    c_eval.precision = precision_score(Ytest, Ypred)\n",
    "    c_eval.recall = recall_score(Ytest, Ypred)\n",
    "    c_eval.fpr, _, _ = roc_curve(Ytest-1, Ypred-1)\n",
    "    return c_eval   "
   ]
  },
  {
   "cell_type": "code",
   "execution_count": 93,
   "metadata": {
    "collapsed": false
   },
   "outputs": [],
   "source": [
    "svm_classifier= svm_fit(X, Y)"
   ]
  },
  {
   "cell_type": "code",
   "execution_count": 95,
   "metadata": {
    "collapsed": false
   },
   "outputs": [
    {
     "data": {
      "text/plain": [
       "accuracy: 0.91\n",
       "precision: 0.913223140496\n",
       "recall: 0.902040816327\n",
       "FPR: [ 0.          0.09795918  1.        ]"
      ]
     },
     "execution_count": 95,
     "metadata": {},
     "output_type": "execute_result"
    }
   ],
   "source": [
    "evalsvm_predict(svm_classifier, Xtest.view(np.ndarray), Ytest.view(np.ndarray))\n"
   ]
  },
  {
   "cell_type": "code",
   "execution_count": null,
   "metadata": {
    "collapsed": false
   },
   "outputs": [],
   "source": []
  },
  {
   "cell_type": "code",
   "execution_count": null,
   "metadata": {
    "collapsed": true
   },
   "outputs": [],
   "source": []
  }
 ],
 "metadata": {
  "anaconda-cloud": {},
  "kernelspec": {
   "display_name": "Python [conda root]",
   "language": "python",
   "name": "conda-root-py"
  },
  "language_info": {
   "codemirror_mode": {
    "name": "ipython",
    "version": 3
   },
   "file_extension": ".py",
   "mimetype": "text/x-python",
   "name": "python",
   "nbconvert_exporter": "python",
   "pygments_lexer": "ipython3",
   "version": "3.5.2"
  }
 },
 "nbformat": 4,
 "nbformat_minor": 1
}
