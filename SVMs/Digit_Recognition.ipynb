{
 "cells": [
  {
   "cell_type": "code",
   "execution_count": 1,
   "metadata": {
    "collapsed": false
   },
   "outputs": [],
   "source": [
    "from sklearn.decomposition import PCA\n",
    "import numpy as np\n",
    "import cv2\n",
    "from svms import *\n",
    "from plot import *\n",
    "import pickle as pkl"
   ]
  },
  {
   "cell_type": "code",
   "execution_count": 2,
   "metadata": {
    "collapsed": false
   },
   "outputs": [],
   "source": [
    "# read data\n",
    "train = np.genfromtxt('04-digits-dataset/train.csv', delimiter=',')\n",
    "test = np.genfromtxt('04-digits-dataset/test.csv', delimiter=',')\n",
    "out = np.genfromtxt('04-digits-dataset/out.csv', delimiter=',')"
   ]
  },
  {
   "cell_type": "code",
   "execution_count": 4,
   "metadata": {
    "collapsed": false
   },
   "outputs": [],
   "source": [
    "# slice data\n",
    "X = train[1:,1:]\n",
    "Y = train[:, 0][1:]\n",
    "\n",
    "Xtest = test[1:]\n",
    "Ytest = out[: ,1][1:]"
   ]
  },
  {
   "cell_type": "code",
   "execution_count": 5,
   "metadata": {
    "collapsed": false
   },
   "outputs": [
    {
     "data": {
      "text/plain": [
       "(42000, 784)"
      ]
     },
     "execution_count": 5,
     "metadata": {},
     "output_type": "execute_result"
    }
   ],
   "source": [
    "X.shape"
   ]
  },
  {
   "cell_type": "code",
   "execution_count": 6,
   "metadata": {
    "collapsed": false
   },
   "outputs": [],
   "source": [
    "# dimensionality reduction - PCA\n",
    "pca = PCA(n_components=0.8)  # variance = 0.8\n",
    "X = pca.fit_transform(X)\n",
    "Xtest = pca.fit_transform(Xtest)"
   ]
  },
  {
   "cell_type": "code",
   "execution_count": 7,
   "metadata": {
    "collapsed": false
   },
   "outputs": [
    {
     "data": {
      "text/plain": [
       "(42000, 43)"
      ]
     },
     "execution_count": 7,
     "metadata": {},
     "output_type": "execute_result"
    }
   ],
   "source": [
    "X.shape"
   ]
  },
  {
   "cell_type": "code",
   "execution_count": 16,
   "metadata": {
    "collapsed": false
   },
   "outputs": [],
   "source": [
    "def get_binary_train_labels(digit):\n",
    "    return (Y == digit).astype(int)\n",
    "def get_binary_test_labels(digit):\n",
    "    return (Ytest == digit).astype(int)"
   ]
  },
  {
   "cell_type": "code",
   "execution_count": 13,
   "metadata": {
    "collapsed": false
   },
   "outputs": [],
   "source": [
    "#susbsample, full data is to large for my machine\n",
    "small = np.random.randint(X.shape[0], size=100)"
   ]
  },
  {
   "cell_type": "code",
   "execution_count": 14,
   "metadata": {
    "collapsed": false
   },
   "outputs": [
    {
     "data": {
      "text/plain": [
       "(1000,)"
      ]
     },
     "execution_count": 14,
     "metadata": {},
     "output_type": "execute_result"
    }
   ],
   "source": [
    "small.shape"
   ]
  },
  {
   "cell_type": "code",
   "execution_count": null,
   "metadata": {
    "collapsed": false
   },
   "outputs": [
    {
     "name": "stdout",
     "output_type": "stream",
     "text": [
      "linear kernel:\n",
      "C =  10\n",
      "0\n",
      "1\n",
      "2\n",
      "3\n"
     ]
    }
   ],
   "source": [
    "#train models\n",
    "models = dict()\n",
    "for kernel in ['linear', 'rbf']:\n",
    "    print(kernel + ' kernel:')\n",
    "    Cs = list()\n",
    "    for c in [10]:#[0.001,0.01,0.1,1,10,100,1000,10000]:\n",
    "        print('C = ', c)\n",
    "        digit_model = list()\n",
    "        for i in range(10):\n",
    "            digit_model.append(svm_fit(X[small], get_binary_train_labels(i)[small], c, kernel))\n",
    "            print(i)\n",
    "        Cs.append(digit_model)\n",
    "    models[kernel] = Cs\n",
    "\n",
    "with open('svm-model-digits.pkl') as f:\n",
    "    pkl.dump(models, f)"
   ]
  },
  {
   "cell_type": "code",
   "execution_count": null,
   "metadata": {
    "collapsed": false
   },
   "outputs": [],
   "source": []
  },
  {
   "cell_type": "code",
   "execution_count": null,
   "metadata": {
    "collapsed": true
   },
   "outputs": [],
   "source": []
  }
 ],
 "metadata": {
  "anaconda-cloud": {},
  "kernelspec": {
   "display_name": "Python [conda root]",
   "language": "python",
   "name": "conda-root-py"
  },
  "language_info": {
   "codemirror_mode": {
    "name": "ipython",
    "version": 3
   },
   "file_extension": ".py",
   "mimetype": "text/x-python",
   "name": "python",
   "nbconvert_exporter": "python",
   "pygments_lexer": "ipython3",
   "version": "3.5.2"
  }
 },
 "nbformat": 4,
 "nbformat_minor": 1
}
