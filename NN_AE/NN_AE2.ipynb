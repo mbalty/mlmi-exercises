{
 "cells": [
  {
   "cell_type": "code",
   "execution_count": 1,
   "metadata": {
    "collapsed": false
   },
   "outputs": [
    {
     "name": "stderr",
     "output_type": "stream",
     "text": [
      "Using TensorFlow backend.\n"
     ]
    }
   ],
   "source": [
    "from plotting import *\n",
    "from matplotlib import pyplot as plt\n",
    "\n",
    "from keras.optimizers import SGD, Adam\n",
    "from keras.layers import Input, Dense\n",
    "from keras.models import Model\n",
    "\n",
    "import scipy.io as sio\n",
    "import numpy as np\n",
    "from sklearn.model_selection import train_test_split"
   ]
  },
  {
   "cell_type": "code",
   "execution_count": 2,
   "metadata": {
    "collapsed": false
   },
   "outputs": [
    {
     "name": "stdout",
     "output_type": "stream",
     "text": [
      "(32000, 625) train samples\n",
      "(8000, 625) test samples\n"
     ]
    }
   ],
   "source": [
    "mat_contents = sio.loadmat('DRIVEdata.mat')\n",
    "x = mat_contents['DataMatrix']\n",
    "y = mat_contents['Labels']\n",
    "\n",
    "# Replace value in y: [0 1] -> 1 and [1 0] -> 2\n",
    "y = y[:,0]\n",
    "y = np.where(y == 1, 2, 1)\n",
    "\n",
    "X_train, X_test, y_train, y_test = train_test_split(x, y, test_size=0.2, random_state=0)\n",
    "print(X_train.shape, 'train samples')\n",
    "print(X_test.shape, 'test samples')"
   ]
  },
  {
   "cell_type": "code",
   "execution_count": 3,
   "metadata": {
    "collapsed": false,
    "scrolled": true
   },
   "outputs": [
    {
     "data": {
      "text/plain": [
       "((32000, 625), (8000, 625))"
      ]
     },
     "execution_count": 3,
     "metadata": {},
     "output_type": "execute_result"
    }
   ],
   "source": [
    "# Normalize features\n",
    "X_train = X_train.astype('float32') / 255.\n",
    "X_test = X_test.astype('float32') / 255.\n",
    "\n",
    "X_train.shape,X_test.shape"
   ]
  },
  {
   "cell_type": "markdown",
   "metadata": {},
   "source": [
    "**1. Autoencode the Data with 50 hidden units selecting a decent learning rate for\n",
    "convergence.**"
   ]
  },
  {
   "cell_type": "code",
   "execution_count": 4,
   "metadata": {
    "collapsed": false
   },
   "outputs": [],
   "source": [
    "def create_autoencoder(num_features, encoding_dim=50, learning_rate=0.01):\n",
    "    input_img = Input(shape=(num_features,))\n",
    "    encoded = Dense(encoding_dim, activation='sigmoid')(input_img)\n",
    "    decoded = Dense(num_features, activation='sigmoid')(encoded)\n",
    "    autoencoder = Model(input=input_img, output=decoded)\n",
    "    encoder = Model(input=input_img, output=encoded)\n",
    "    decoder_layer = autoencoder.layers[-1]\n",
    "    \n",
    "    encoded_input = Input(shape=(encoding_dim,))\n",
    "    decoder = Model(input=encoded_input, output=decoder_layer(encoded_input))\n",
    "\n",
    "    optimizer_adam = Adam(lr=learning_rate)\n",
    "    autoencoder.compile(optimizer=optimizer_adam, loss='binary_crossentropy')\n",
    "    \n",
    "#     optimizer_SGD = SGD(lr=learning_rate, momentum=0.25)\n",
    "#     autoencoder.compile(optimizer=optimizer_SGD, loss='binary_crossentropy')\n",
    "    \n",
    "    return encoder, decoder, autoencoder"
   ]
  },
  {
   "cell_type": "code",
   "execution_count": 5,
   "metadata": {
    "collapsed": false
   },
   "outputs": [],
   "source": [
    "# Settings for Autoencoder\n",
    "nb_epoch = 3\n",
    "learning_rate = 0.001 # recommended default for adam in keras\n",
    "num_features = X_train.shape[1]"
   ]
  },
  {
   "cell_type": "code",
   "execution_count": 6,
   "metadata": {
    "collapsed": false
   },
   "outputs": [
    {
     "name": "stdout",
     "output_type": "stream",
     "text": [
      "Train on 32000 samples, validate on 32000 samples\n",
      "Epoch 1/10\n",
      "32000/32000 [==============================] - 5s - loss: 0.6726 - val_loss: 0.6651\n",
      "Epoch 2/10\n",
      "32000/32000 [==============================] - 5s - loss: 0.6616 - val_loss: 0.6600\n",
      "Epoch 3/10\n",
      "32000/32000 [==============================] - 6s - loss: 0.6588 - val_loss: 0.6579\n",
      "Epoch 4/10\n",
      "32000/32000 [==============================] - 6s - loss: 0.6576 - val_loss: 0.6578\n",
      "Epoch 5/10\n",
      "32000/32000 [==============================] - 5s - loss: 0.6570 - val_loss: 0.6566\n",
      "Epoch 6/10\n",
      "32000/32000 [==============================] - 6s - loss: 0.6565 - val_loss: 0.6562\n",
      "Epoch 7/10\n",
      "32000/32000 [==============================] - 6s - loss: 0.6561 - val_loss: 0.6558\n",
      "Epoch 8/10\n",
      "32000/32000 [==============================] - 6s - loss: 0.6558 - val_loss: 0.6556\n",
      "Epoch 9/10\n",
      "32000/32000 [==============================] - 6s - loss: 0.6555 - val_loss: 0.6556\n",
      "Epoch 10/10\n",
      "32000/32000 [==============================] - 6s - loss: 0.6554 - val_loss: 0.6552\n"
     ]
    }
   ],
   "source": [
    "encoding_dim = 50  \n",
    "\n",
    "encoder, decoder, autoencoder = create_autoencoder(num_features, encoding_dim, learning_rate)\n",
    "\n",
    "AE_50 = autoencoder.fit(X_train, X_train,\n",
    "                nb_epoch=nb_epoch,\n",
    "                shuffle=True,\n",
    "                validation_data=(X_train, X_train))"
   ]
  },
  {
   "cell_type": "code",
   "execution_count": 7,
   "metadata": {
    "collapsed": false,
    "scrolled": true
   },
   "outputs": [
    {
     "data": {
      "image/png": "[encoded data removed]",
      "text/plain": [
       "<matplotlib.figure.Figure at 0x106d35ac8>"
      ]
     },
     "metadata": {},
     "output_type": "display_data"
    }
   ],
   "source": [
    "plot_loss(models=[AE_50], legend=['loss'], title='loss, 50 encoding')"
   ]
  },
  {
   "cell_type": "markdown",
   "metadata": {},
   "source": [
    "**2. Use the 50 dimensional learnt features to train a Random Forest and a Logistic\n",
    "Regression Classifier (Use any inbuilt or open source code for Random Forest\n",
    "and Logistic Regression).**\n"
   ]
  },
  {
   "cell_type": "code",
   "execution_count": 8,
   "metadata": {
    "collapsed": true
   },
   "outputs": [],
   "source": [
    "#decoded_imgs = decoder.predict(encoded_imgs)\n",
    "X_train_encoded = encoder.predict(X_train)\n",
    "X_test_encoded = encoder.predict(X_test)"
   ]
  },
  {
   "cell_type": "code",
   "execution_count": 9,
   "metadata": {
    "collapsed": false
   },
   "outputs": [],
   "source": [
    "from sklearn.ensemble import RandomForestClassifier\n",
    "from sklearn.metrics import confusion_matrix\n",
    "\n",
    "# Classfier 1: Train random forest classifier with 20 trees and max depth of 4. (Encoded data)\n",
    "clf_randomforest = RandomForestClassifier(n_estimators=20, max_depth=4)\n",
    "clf_randomforest.fit(X_train_encoded, y_train)\n",
    "y_pred = clf_randomforest.predict(X_test_encoded)\n",
    "\n",
    "cnf_matrix_encode_randomforest = confusion_matrix(y_test, y_pred)\n",
    "\n",
    "# Classfier 2: Train random forest classifier with 20 trees and max depth of 4. (Normal)\n",
    "clf_randomforest = RandomForestClassifier(n_estimators=20, max_depth=4)\n",
    "clf_randomforest.fit(X_train, y_train)\n",
    "y_pred = clf_randomforest.predict(X_test)\n",
    "\n",
    "cnf_matrix_normal_randomforest = confusion_matrix(y_test, y_pred)\n"
   ]
  },
  {
   "cell_type": "code",
   "execution_count": 10,
   "metadata": {
    "collapsed": true
   },
   "outputs": [],
   "source": [
    "from sklearn import linear_model\n",
    "\n",
    "\n",
    "# Classfier 3: Train logistic regression classifier (Encoded data)\n",
    "clf_logreg = linear_model.LogisticRegression()\n",
    "clf_logreg.fit(X_train_encoded, y_train)\n",
    "y_pred = clf_logreg.predict(X_test_encoded)\n",
    "\n",
    "cnf_matrix_encode_logreg = confusion_matrix(y_test, y_pred)\n",
    "\n",
    "# Classfier 4: Train logistic regression classifier  (Normal)\n",
    "clf_logreg = linear_model.LogisticRegression()\n",
    "clf_logreg.fit(X_train, y_train)\n",
    "y_pred = clf_logreg.predict(X_test)\n",
    "\n",
    "cnf_matrix_normal_logreg = confusion_matrix(y_test, y_pred)\n"
   ]
  },
  {
   "cell_type": "markdown",
   "metadata": {},
   "source": [
    "**3. Compare their performance on the 20% testing data and report them.**"
   ]
  },
  {
   "cell_type": "code",
   "execution_count": 11,
   "metadata": {
    "collapsed": false
   },
   "outputs": [
    {
     "ename": "NameError",
     "evalue": "name 'np' is not defined",
     "output_type": "error",
     "traceback": [
      "\u001b[0;31m---------------------------------------------------------------------------\u001b[0m",
      "\u001b[0;31mNameError\u001b[0m                                 Traceback (most recent call last)",
      "\u001b[0;32m<ipython-input-11-0c70f9f73441>\u001b[0m in \u001b[0;36m<module>\u001b[0;34m()\u001b[0m\n\u001b[1;32m      1\u001b[0m \u001b[0mclass_names\u001b[0m \u001b[0;34m=\u001b[0m \u001b[0mnp\u001b[0m\u001b[0;34m.\u001b[0m\u001b[0munique\u001b[0m\u001b[0;34m(\u001b[0m\u001b[0my\u001b[0m\u001b[0;34m)\u001b[0m\u001b[0;34m\u001b[0m\u001b[0m\n\u001b[1;32m      2\u001b[0m \u001b[0;34m\u001b[0m\u001b[0m\n\u001b[0;32m----> 3\u001b[0;31m \u001b[0mplot_confusion_matrix_performance\u001b[0m\u001b[0;34m(\u001b[0m\u001b[0mcnf_matrix\u001b[0m\u001b[0;34m=\u001b[0m\u001b[0mcnf_matrix_encode_randomforest\u001b[0m\u001b[0;34m,\u001b[0m \u001b[0mclasses\u001b[0m\u001b[0;34m=\u001b[0m\u001b[0mclass_names\u001b[0m\u001b[0;34m,\u001b[0m\u001b[0mmodel_name\u001b[0m\u001b[0;34m=\u001b[0m\u001b[0;34m\"Random Forest (Encoded)\"\u001b[0m\u001b[0;34m)\u001b[0m\u001b[0;34m\u001b[0m\u001b[0m\n\u001b[0m\u001b[1;32m      4\u001b[0m \u001b[0mplot_confusion_matrix_performance\u001b[0m\u001b[0;34m(\u001b[0m\u001b[0mcnf_matrix\u001b[0m\u001b[0;34m=\u001b[0m\u001b[0mcnf_matrix_normal_randomforest\u001b[0m\u001b[0;34m,\u001b[0m \u001b[0mclasses\u001b[0m\u001b[0;34m=\u001b[0m\u001b[0mclass_names\u001b[0m\u001b[0;34m,\u001b[0m\u001b[0mmodel_name\u001b[0m\u001b[0;34m=\u001b[0m\u001b[0;34m\"Random Forest Normal\"\u001b[0m\u001b[0;34m)\u001b[0m\u001b[0;34m\u001b[0m\u001b[0m\n\u001b[1;32m      5\u001b[0m \u001b[0;34m\u001b[0m\u001b[0m\n",
      "\u001b[0;32m/Users/mbaltac/Documents/tum/mlmi-exercises/NN_AE/plotting.py\u001b[0m in \u001b[0;36mplot_confusion_matrix_performance\u001b[0;34m(cnf_matrix, classes, model_name)\u001b[0m\n\u001b[1;32m     52\u001b[0m     \u001b[0mplt\u001b[0m\u001b[0;34m.\u001b[0m\u001b[0mfigure\u001b[0m\u001b[0;34m(\u001b[0m\u001b[0;34m)\u001b[0m\u001b[0;34m\u001b[0m\u001b[0m\n\u001b[1;32m     53\u001b[0m     plot_confusion_matrix(cnf_matrix, classes=classes, normalize=True,\n\u001b[0;32m---> 54\u001b[0;31m                           title=model_name)\n\u001b[0m\u001b[1;32m     55\u001b[0m     \u001b[0mplt\u001b[0m\u001b[0;34m.\u001b[0m\u001b[0mshow\u001b[0m\u001b[0;34m(\u001b[0m\u001b[0;34m)\u001b[0m\u001b[0;34m\u001b[0m\u001b[0m\n\u001b[1;32m     56\u001b[0m \u001b[0;34m\u001b[0m\u001b[0m\n",
      "\u001b[0;32m/Users/mbaltac/Documents/tum/mlmi-exercises/NN_AE/plotting.py\u001b[0m in \u001b[0;36mplot_confusion_matrix\u001b[0;34m(cm, classes, normalize, title, cmap)\u001b[0m\n\u001b[1;32m     26\u001b[0m     \u001b[0mplt\u001b[0m\u001b[0;34m.\u001b[0m\u001b[0mtitle\u001b[0m\u001b[0;34m(\u001b[0m\u001b[0mtitle\u001b[0m\u001b[0;34m)\u001b[0m\u001b[0;34m\u001b[0m\u001b[0m\n\u001b[1;32m     27\u001b[0m     \u001b[0mplt\u001b[0m\u001b[0;34m.\u001b[0m\u001b[0mcolorbar\u001b[0m\u001b[0;34m(\u001b[0m\u001b[0;34m)\u001b[0m\u001b[0;34m\u001b[0m\u001b[0m\n\u001b[0;32m---> 28\u001b[0;31m     \u001b[0mtick_marks\u001b[0m \u001b[0;34m=\u001b[0m \u001b[0mnp\u001b[0m\u001b[0;34m.\u001b[0m\u001b[0marange\u001b[0m\u001b[0;34m(\u001b[0m\u001b[0mlen\u001b[0m\u001b[0;34m(\u001b[0m\u001b[0mclasses\u001b[0m\u001b[0;34m)\u001b[0m\u001b[0;34m)\u001b[0m\u001b[0;34m\u001b[0m\u001b[0m\n\u001b[0m\u001b[1;32m     29\u001b[0m     \u001b[0mplt\u001b[0m\u001b[0;34m.\u001b[0m\u001b[0mxticks\u001b[0m\u001b[0;34m(\u001b[0m\u001b[0mtick_marks\u001b[0m\u001b[0;34m,\u001b[0m \u001b[0mclasses\u001b[0m\u001b[0;34m,\u001b[0m \u001b[0mrotation\u001b[0m\u001b[0;34m=\u001b[0m\u001b[0;36m45\u001b[0m\u001b[0;34m)\u001b[0m\u001b[0;34m\u001b[0m\u001b[0m\n\u001b[1;32m     30\u001b[0m     \u001b[0mplt\u001b[0m\u001b[0;34m.\u001b[0m\u001b[0myticks\u001b[0m\u001b[0;34m(\u001b[0m\u001b[0mtick_marks\u001b[0m\u001b[0;34m,\u001b[0m \u001b[0mclasses\u001b[0m\u001b[0;34m)\u001b[0m\u001b[0;34m\u001b[0m\u001b[0m\n",
      "\u001b[0;31mNameError\u001b[0m: name 'np' is not defined"
     ]
    }
   ],
   "source": [
    "class_names = np.unique(y)\n",
    "\n",
    "plot_confusion_matrix_performance(cnf_matrix=cnf_matrix_encode_randomforest, classes=class_names,model_name=\"Random Forest (Encoded)\")\n",
    "plot_confusion_matrix_performance(cnf_matrix=cnf_matrix_normal_randomforest, classes=class_names,model_name=\"Random Forest Normal\")\n",
    "\n",
    "plot_confusion_matrix_performance(cnf_matrix=cnf_matrix_encode_logreg, classes=class_names,model_name=\"Log Reg (Encoded)\")\n",
    "plot_confusion_matrix_performance(cnf_matrix=cnf_matrix_normal_logreg, classes=class_names,model_name=\"Log Reg Normal\")"
   ]
  },
  {
   "cell_type": "markdown",
   "metadata": {},
   "source": [
    "**4. Visualize the learnt weights.**"
   ]
  },
  {
   "cell_type": "code",
   "execution_count": null,
   "metadata": {
    "collapsed": false
   },
   "outputs": [],
   "source": [
    "# encode and decode some digits\n",
    "# note that we take them from the *test* set\n",
    "encoded_imgs = encoder.predict(X_test)\n",
    "decoded_imgs = decoder.predict(encoded_imgs)\n",
    "\n",
    "\n",
    "n = 10  # how many digits we will display\n",
    "plt.figure(figsize=(20, 4))\n",
    "for i in range(n):\n",
    "    # display original\n",
    "    ax = plt.subplot(2, n, i + 1)\n",
    "    plt.imshow(X_test[i].reshape(25, 25))\n",
    "    plt.gray()\n",
    "    ax.get_xaxis().set_visible(False)\n",
    "    ax.get_yaxis().set_visible(False)\n",
    "\n",
    "    # display reconstruction\n",
    "    ax = plt.subplot(2, n, i + 1 + n)\n",
    "    plt.imshow(decoded_imgs[i].reshape(25, 25))\n",
    "    plt.gray()\n",
    "    ax.get_xaxis().set_visible(False)\n",
    "    ax.get_yaxis().set_visible(False)\n",
    "plt.show()"
   ]
  },
  {
   "cell_type": "code",
   "execution_count": null,
   "metadata": {
    "collapsed": true
   },
   "outputs": [],
   "source": []
  }
 ],
 "metadata": {
  "anaconda-cloud": {},
  "kernelspec": {
   "display_name": "Python [conda root]",
   "language": "python",
   "name": "conda-root-py"
  },
  "language_info": {
   "codemirror_mode": {
    "name": "ipython",
    "version": 3
   },
   "file_extension": ".py",
   "mimetype": "text/x-python",
   "name": "python",
   "nbconvert_exporter": "python",
   "pygments_lexer": "ipython3",
   "version": "3.5.2"
  }
 },
 "nbformat": 4,
 "nbformat_minor": 0
}
