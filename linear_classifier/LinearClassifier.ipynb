{
 "cells": [
  {
   "cell_type": "code",
   "execution_count": 18,
   "metadata": {
    "collapsed": false
   },
   "outputs": [],
   "source": [
    "import numpy as np\n",
    "import scipy.io as sio\n",
    "import scipy as sp\n",
    "from sklearn import linear_model\n",
    "from sklearn.metrics import log_loss\n",
    "from plotly.offline import plot, iplot, init_notebook_mode\n",
    "from plotly.graph_objs import Scatter3d, Scatter\n"
   ]
  },
  {
   "cell_type": "code",
   "execution_count": 3,
   "metadata": {
    "collapsed": false
   },
   "outputs": [],
   "source": [
    "data = sio.loadmat('./SAheartdata/SAheart.mat')['SAheart']"
   ]
  },
  {
   "cell_type": "code",
   "execution_count": 4,
   "metadata": {
    "collapsed": false
   },
   "outputs": [],
   "source": [
    "# initalization\n",
    "X = data[:,:9]\n",
    "Y = data[:,9]\n",
    "feature_name = ['sbp', 'tobaco', 'Idl', 'adiposity', 'famhist', 'typea', 'obesity', 'alcohol','age']\n",
    "n_features=9"
   ]
  },
  {
   "cell_type": "code",
   "execution_count": 6,
   "metadata": {
    "collapsed": false
   },
   "outputs": [
    {
     "data": {
      "text/plain": [
       "LogisticRegression(C=1000000.0, class_weight=None, dual=False,\n",
       "          fit_intercept=True, intercept_scaling=1000.0, max_iter=100,\n",
       "          multi_class='ovr', n_jobs=1, penalty='l2', random_state=None,\n",
       "          solver='newton-cg', tol=0.0001, verbose=0, warm_start=False)"
      ]
     },
     "execution_count": 6,
     "metadata": {},
     "output_type": "execute_result"
    }
   ],
   "source": [
    "#null model - no fetures\n",
    "logreg_null = linear_model.LogisticRegression(C=1e6, solver='newton-cg', intercept_scaling=1e3)\n",
    "logreg_null.fit(np.zeros(Y.size).reshape(-1, 1), Y)\n",
    "# logreg_null"
   ]
  },
  {
   "cell_type": "code",
   "execution_count": 8,
   "metadata": {
    "collapsed": false
   },
   "outputs": [],
   "source": [
    "# single feature model\n",
    "logreg_sf=list()\n",
    "for i in range(n_features):\n",
    "    sf_model = linear_model.LogisticRegression(C=1e6, solver='newton-cg', intercept_scaling=1e3)\n",
    "    sf_model.fit(X[:,i].reshape(-1, 1), Y)\n",
    "#     sf_model.predict_log_proba\n",
    "    logreg_sf.append(sf_model)"
   ]
  },
  {
   "cell_type": "code",
   "execution_count": 20,
   "metadata": {
    "collapsed": false
   },
   "outputs": [],
   "source": [
    "def likehood_ratio_test(LLF_full, LLF_reduced, df):\n",
    "    D = -2 * (LLF_full-LLF_reduced)\n",
    "#     print(LLF_full,LLF_reduced) \n",
    "    p = sp.special.gammainc(df/2, D/2)\n",
    "    return p"
   ]
  },
  {
   "cell_type": "code",
   "execution_count": 22,
   "metadata": {
    "collapsed": false
   },
   "outputs": [
    {
     "name": "stdout",
     "output_type": "stream",
     "text": [
      "0.0\n",
      "nan\n",
      "nan\n",
      "nan\n",
      "nan\n",
      "0.0\n",
      "nan\n",
      "0.0\n",
      "0.819562615619\n"
     ]
    }
   ],
   "source": [
    "#compare single feature with null\n",
    "comparisons = list()\n",
    "LLF_reduced = log_loss(Y, logreg_null.predict(X[:,i].reshape(-1, 1)))\n",
    "for ll1f in logreg_sf:\n",
    "    LLF_full = log_loss(Y, ll1f.predict(X[:,i].reshape(-1, 1)))\n",
    "    p = likehood_ratio_test(LLF_full,LLF_reduced, 1.)\n",
    "    print(p)\n",
    "    comparisons.append(p)\n",
    "                       "
   ]
  },
  {
   "cell_type": "code",
   "execution_count": null,
   "metadata": {
    "collapsed": true
   },
   "outputs": [],
   "source": []
  },
  {
   "cell_type": "code",
   "execution_count": null,
   "metadata": {
    "collapsed": true
   },
   "outputs": [],
   "source": []
  }
 ],
 "metadata": {
  "anaconda-cloud": {},
  "kernelspec": {
   "display_name": "Python [conda root]",
   "language": "python",
   "name": "conda-root-py"
  },
  "language_info": {
   "codemirror_mode": {
    "name": "ipython",
    "version": 3
   },
   "file_extension": ".py",
   "mimetype": "text/x-python",
   "name": "python",
   "nbconvert_exporter": "python",
   "pygments_lexer": "ipython3",
   "version": "3.5.2"
  }
 },
 "nbformat": 4,
 "nbformat_minor": 1
}
