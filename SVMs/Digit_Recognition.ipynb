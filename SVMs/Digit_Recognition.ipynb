{
 "cells": [
  {
   "cell_type": "code",
   "execution_count": 20,
   "metadata": {
    "collapsed": false
   },
   "outputs": [],
   "source": [
    "from sklearn import svm\n",
    "from sklearn.metrics import accuracy_score, precision_score, recall_score, roc_curve\n",
    "from sklearn.decomposition import PCA\n",
    "import numpy as np\n",
    "from plotly.offline import plot, iplot, init_notebook_mode\n",
    "from plotly.graph_objs import Scatter\n",
    "import cv2"
   ]
  },
  {
   "cell_type": "code",
   "execution_count": 16,
   "metadata": {
    "collapsed": true
   },
   "outputs": [],
   "source": [
    "# read data\n",
    "train = np.genfromtxt('04-digits-dataset/train.csv', delimiter=',')\n",
    "test = np.genfromtxt('04-digits-dataset/test.csv', delimiter=',')\n",
    "out = np.genfromtxt('04-digits-dataset/out.csv', delimiter=',')"
   ]
  },
  {
   "cell_type": "code",
   "execution_count": 44,
   "metadata": {
    "collapsed": false
   },
   "outputs": [],
   "source": [
    "# slice data\n",
    "X = train[1:,1:]\n",
    "Y = train[:, 0][1:]\n",
    "\n",
    "Xtest = test[1:]\n",
    "Ytest = out[: ,1][1:]"
   ]
  },
  {
   "cell_type": "code",
   "execution_count": 45,
   "metadata": {
    "collapsed": false
   },
   "outputs": [],
   "source": [
    "# dimensionality reduction - PCA\n",
    "pca = PCA(n_components=0.8)  # variance = 0.8\n",
    "X_reduced = pca.fit_transform(X)\n",
    "Xtest_reduced = pca.fit_transform(Xtest)"
   ]
  },
  {
   "cell_type": "code",
   "execution_count": 47,
   "metadata": {
    "collapsed": false
   },
   "outputs": [
    {
     "data": {
      "text/plain": [
       "(28000, 43)"
      ]
     },
     "execution_count": 47,
     "metadata": {},
     "output_type": "execute_result"
    }
   ],
   "source": [
    "#"
   ]
  },
  {
   "cell_type": "code",
   "execution_count": null,
   "metadata": {
    "collapsed": true
   },
   "outputs": [],
   "source": []
  }
 ],
 "metadata": {
  "anaconda-cloud": {},
  "kernelspec": {
   "display_name": "Python [conda root]",
   "language": "python",
   "name": "conda-root-py"
  },
  "language_info": {
   "codemirror_mode": {
    "name": "ipython",
    "version": 3
   },
   "file_extension": ".py",
   "mimetype": "text/x-python",
   "name": "python",
   "nbconvert_exporter": "python",
   "pygments_lexer": "ipython3",
   "version": "3.5.2"
  }
 },
 "nbformat": 4,
 "nbformat_minor": 1
}
